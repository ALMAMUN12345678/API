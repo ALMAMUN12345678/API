{
 "cells": [
  {
   "cell_type": "code",
   "execution_count": 2,
   "id": "81ffcfcd-f051-4a65-9d03-5ce02d73e821",
   "metadata": {},
   "outputs": [],
   "source": [
    "import pandas as pd\n",
    "import numpy as np\n",
    "import seaborn as sns\n",
    "import missingno as msno\n",
    "from thefuzz import fuzz, process\n",
    "import itertools\n",
    "from itertools import combinations\n",
    "import matplotlib.pyplot as plt\n",
    "from datetime import datetime\n",
    "import matplotlib.font_manager as fm\n",
    "from collections import Counter\n",
    "from matplotlib import dates as mpl_dates\n",
    "from matplotlib.animation import FuncAnimation\n",
    "import random\n",
    "from mpl_toolkits.mplot3d import Axes3D\n",
    "from itertools import count\n",
    "from ipywidgets import interact\n",
    "import matplotlib.animation as animation\n",
    "from IPython.display import HTML, Image\n",
    "from IPython.display import HTML\n",
    "import csv\n",
    "import time\n",
    "from scipy import stats\n",
    "from statsmodels import robust\n",
    "from robustbase.stats import mad\n",
    "import requests"
   ]
  },
  {
   "cell_type": "code",
   "execution_count": 6,
   "id": "a1781951-6fc2-40ee-a88b-6967ee758236",
   "metadata": {},
   "outputs": [],
   "source": [
    "response=requests.get('https://api.themoviedb.org/3/movie/popular?api_key=6465084dd1c4aff6d8c1bff98a60ec70&language=en-US&page=1').json()"
   ]
  },
  {
   "cell_type": "code",
   "execution_count": null,
   "id": "dde63b9e-8839-4d47-8308-eba97eaa06e2",
   "metadata": {},
   "outputs": [],
   "source": [
    "response['results']"
   ]
  },
  {
   "cell_type": "code",
   "execution_count": 61,
   "id": "ecbb4242-5b5f-4d9a-a089-d468d9636174",
   "metadata": {},
   "outputs": [],
   "source": [
    "data = []\n",
    "for j in range(1,501):\n",
    "    response=requests.get(f'https://api.themoviedb.org/3/movie/popular?api_key=6465084dd1c4aff6d8c1bff98a60ec70&language=en-US&page={j}').json()\n",
    "    for i in response['results']:\n",
    "        data.append([i['title'],i['popularity'],i['vote_average'],i['vote_count'],i['original_language'],i['overview'],i['release_date']])\n",
    "df = pd.DataFrame(data,columns=['title','popularity','vote_average','vote_count','original_language','overview','release_date'])"
   ]
  },
  {
   "cell_type": "code",
   "execution_count": 27,
   "id": "6834ebaa-626e-4dcb-9652-f7bf62491ea0",
   "metadata": {},
   "outputs": [],
   "source": [
    "df = pd.DataFrame(data,columns=['title','popularity','vote_average','vote_count','original_language','overview','release_date'])"
   ]
  },
  {
   "cell_type": "code",
   "execution_count": 30,
   "id": "73bbb99a-5552-43a1-b3dd-6bbc09a59f6e",
   "metadata": {},
   "outputs": [],
   "source": [
    "title = []\n",
    "popularity = []\n",
    "vote_average = []\n",
    "vote_count = []\n",
    "original_language = []\n",
    "overview = []\n",
    "release_date = []\n",
    "for i in response['results']:\n",
    "    title.append(i['title'])\n",
    "    popularity.append(i['popularity'])\n",
    "    vote_average.append(i['vote_average'])\n",
    "    vote_count.append(i['vote_count'])\n",
    "    original_language.append(i['original_language'])\n",
    "    overview.append(i['overview'])\n",
    "    release_date.append(i['release_date'])\n",
    "d = {'title':title,'popularity':popularity,'vote_average':vote_average,'vote_count':vote_count,\n",
    "    'original_language':original_language,'overview':overview,'release_date':release_date}\n",
    "df = pd.DataFrame(d)"
   ]
  },
  {
   "cell_type": "code",
   "execution_count": 58,
   "id": "0a796f84-c6ff-4f10-85d3-3ce196f1e44a",
   "metadata": {},
   "outputs": [],
   "source": [
    "final = []\n",
    "for j in range(1,501):\n",
    "    response=requests.get(f'https://api.themoviedb.org/3/movie/popular?api_key=6465084dd1c4aff6d8c1bff98a60ec70&language=en-US&page={j}').json()\n",
    "    title = []\n",
    "    popularity = []\n",
    "    vote_average = []\n",
    "    vote_count = []\n",
    "    original_language = []\n",
    "    overview = []\n",
    "    release_date = []\n",
    "    for i in response['results']:\n",
    "        title.append(i['title'])\n",
    "        popularity.append(i['popularity'])\n",
    "        vote_average.append(i['vote_average'])\n",
    "        vote_count.append(i['vote_count'])\n",
    "        original_language.append(i['original_language'])\n",
    "        overview.append(i['overview'])\n",
    "        release_date.append(i['release_date'])\n",
    "    d = {'title':title,'popularity':popularity,'vote_average':vote_average,'vote_count':vote_count,\n",
    "        'original_language':original_language,'overview':overview,'release_date':release_date}\n",
    "    df = pd.DataFrame(d)\n",
    "    final.append(df)\n",
    "fixed = pd.concat(final,ignore_index=True)"
   ]
  },
  {
   "cell_type": "code",
   "execution_count": 120,
   "id": "6e208059-46d6-4fdd-b8ee-242c83f22ecb",
   "metadata": {},
   "outputs": [],
   "source": [
    "df =requests.get('https://api.openweathermap.org/data/2.5/weather?q=Dhaka&appid=19795842438e464e9d61f9aa61346041').json()"
   ]
  },
  {
   "cell_type": "code",
   "execution_count": 123,
   "id": "7daf220d-7aaf-4eab-9ded-f7d6faf33918",
   "metadata": {},
   "outputs": [
    {
     "data": {
      "text/html": [
       "<div>\n",
       "<style scoped>\n",
       "    .dataframe tbody tr th:only-of-type {\n",
       "        vertical-align: middle;\n",
       "    }\n",
       "\n",
       "    .dataframe tbody tr th {\n",
       "        vertical-align: top;\n",
       "    }\n",
       "\n",
       "    .dataframe thead th {\n",
       "        text-align: right;\n",
       "    }\n",
       "</style>\n",
       "<table border=\"1\" class=\"dataframe\">\n",
       "  <thead>\n",
       "    <tr style=\"text-align: right;\">\n",
       "      <th></th>\n",
       "      <th>temp</th>\n",
       "      <th>feels_like</th>\n",
       "      <th>temp_min</th>\n",
       "      <th>temp_max</th>\n",
       "      <th>pressure</th>\n",
       "      <th>humidity</th>\n",
       "    </tr>\n",
       "  </thead>\n",
       "  <tbody>\n",
       "  </tbody>\n",
       "</table>\n",
       "</div>"
      ],
      "text/plain": [
       "Empty DataFrame\n",
       "Columns: [temp, feels_like, temp_min, temp_max, pressure, humidity]\n",
       "Index: []"
      ]
     },
     "execution_count": 123,
     "metadata": {},
     "output_type": "execute_result"
    }
   ],
   "source": [
    "data = pd.DataFrame(columns=df['main'].keys())\n",
    "data"
   ]
  },
  {
   "cell_type": "code",
   "execution_count": 105,
   "id": "f21c6efb-92c3-488e-a86b-6c3a8543428b",
   "metadata": {},
   "outputs": [],
   "source": [
    "row = []\n",
    "for key, value in df['main'].items():\n",
    "    row.append(value)\n",
    "data.loc[0] = row"
   ]
  },
  {
   "cell_type": "code",
   "execution_count": 109,
   "id": "aa93977b-4f48-46e4-b817-d363be532bd2",
   "metadata": {},
   "outputs": [],
   "source": [
    "main_data = df.get('main', {})\n",
    "wind_data = df.get('wind', {})\n",
    "visibility = df.get('visibility')"
   ]
  },
  {
   "cell_type": "code",
   "execution_count": 111,
   "id": "e474ac94-552e-499c-a140-956a2fa00386",
   "metadata": {},
   "outputs": [],
   "source": [
    "df1 = pd.DataFrame(columns=['temp', 'feels_like', 'temp_min', 'temp_max', 'pressure', 'humidity', 'wind_speed', 'wind_deg', 'visibility'])"
   ]
  },
  {
   "cell_type": "code",
   "execution_count": 113,
   "id": "cd044f68-289f-4f1f-90bb-187029f675ea",
   "metadata": {},
   "outputs": [],
   "source": [
    "df1.loc[0] = [\n",
    "        main_data.get('temp'),\n",
    "        main_data.get('feels_like'),\n",
    "        main_data.get('temp_min'),\n",
    "        main_data.get('temp_max'),\n",
    "        main_data.get('pressure'),\n",
    "        main_data.get('humidity'),\n",
    "        wind_data.get('speed'),\n",
    "        wind_data.get('deg'),\n",
    "        visibility\n",
    "    ]"
   ]
  },
  {
   "cell_type": "code",
   "execution_count": 116,
   "id": "620095fc-4029-4aa5-a929-92daaf3e08ba",
   "metadata": {},
   "outputs": [
    {
     "data": {
      "text/html": [
       "<div>\n",
       "<style scoped>\n",
       "    .dataframe tbody tr th:only-of-type {\n",
       "        vertical-align: middle;\n",
       "    }\n",
       "\n",
       "    .dataframe tbody tr th {\n",
       "        vertical-align: top;\n",
       "    }\n",
       "\n",
       "    .dataframe thead th {\n",
       "        text-align: right;\n",
       "    }\n",
       "</style>\n",
       "<table border=\"1\" class=\"dataframe\">\n",
       "  <thead>\n",
       "    <tr style=\"text-align: right;\">\n",
       "      <th></th>\n",
       "      <th>temp</th>\n",
       "      <th>feels_like</th>\n",
       "      <th>temp_min</th>\n",
       "      <th>temp_max</th>\n",
       "      <th>pressure</th>\n",
       "      <th>humidity</th>\n",
       "      <th>wind_speed</th>\n",
       "      <th>wind_deg</th>\n",
       "      <th>visibility</th>\n",
       "    </tr>\n",
       "  </thead>\n",
       "  <tbody>\n",
       "    <tr>\n",
       "      <th>0</th>\n",
       "      <td>305.14</td>\n",
       "      <td>312.12</td>\n",
       "      <td>305.14</td>\n",
       "      <td>305.14</td>\n",
       "      <td>998.0</td>\n",
       "      <td>66.0</td>\n",
       "      <td>3.6</td>\n",
       "      <td>170.0</td>\n",
       "      <td>5000.0</td>\n",
       "    </tr>\n",
       "  </tbody>\n",
       "</table>\n",
       "</div>"
      ],
      "text/plain": [
       "     temp  feels_like  temp_min  temp_max  pressure  humidity  wind_speed  \\\n",
       "0  305.14      312.12    305.14    305.14     998.0      66.0         3.6   \n",
       "\n",
       "   wind_deg  visibility  \n",
       "0     170.0      5000.0  "
      ]
     },
     "execution_count": 116,
     "metadata": {},
     "output_type": "execute_result"
    }
   ],
   "source": [
    "df1"
   ]
  },
  {
   "cell_type": "code",
   "execution_count": 127,
   "id": "60675ee0-278e-435a-9905-5b8eed517191",
   "metadata": {},
   "outputs": [],
   "source": [
    "url = 'https://rickandmortyapi.com/api/'\n",
    "end_point = 'character'\n",
    "r = requests.get(url+end_point)\n",
    "data=r.json()"
   ]
  },
  {
   "cell_type": "code",
   "execution_count": 130,
   "id": "c35625b9-1d36-43b7-9ff1-7f2918db0504",
   "metadata": {},
   "outputs": [],
   "source": [
    "pages=data['info']['pages']"
   ]
  },
  {
   "cell_type": "code",
   "execution_count": 133,
   "id": "c484db3f-f65b-4e2a-a9f9-14c362a65ef6",
   "metadata": {},
   "outputs": [],
   "source": [
    "name = data['results'][0]['name']"
   ]
  },
  {
   "cell_type": "code",
   "execution_count": 135,
   "id": "af2fb68d-a0df-40a3-9db3-9752e83ff0d6",
   "metadata": {},
   "outputs": [],
   "source": [
    "episodes = data['results'][0]['episode']"
   ]
  },
  {
   "cell_type": "code",
   "execution_count": 137,
   "id": "520061b2-bdb7-47d8-902f-73419064a9f7",
   "metadata": {},
   "outputs": [
    {
     "name": "stdout",
     "output_type": "stream",
     "text": [
      "51\n"
     ]
    }
   ],
   "source": [
    "print(len(episodes))"
   ]
  },
  {
   "cell_type": "code",
   "execution_count": 158,
   "id": "faad5514-57c1-4edb-bc86-5010936c24ac",
   "metadata": {},
   "outputs": [],
   "source": [
    "def main_request(url,end_point,X):\n",
    "    r = requests.get(url+end_point+ f'?page={X}')\n",
    "    return r.json()\n",
    "data= main_request(url,end_point,2)\n",
    "pages= data['info']['pages']\n",
    "name = data['results'][0]['name']\n",
    "episodes = data['results'][0]['episode']"
   ]
  },
  {
   "cell_type": "code",
   "execution_count": 159,
   "id": "11157d6d-aca4-46f3-b167-9486c7f2082d",
   "metadata": {},
   "outputs": [
    {
     "name": "stdout",
     "output_type": "stream",
     "text": [
      "42\n"
     ]
    }
   ],
   "source": [
    "def get_page(response):\n",
    "    return response['info']['pages']\n",
    "print(get_page(data))    "
   ]
  },
  {
   "cell_type": "code",
   "execution_count": 174,
   "id": "1b360bfb-2420-4621-a220-5da9a431af5f",
   "metadata": {},
   "outputs": [
    {
     "data": {
      "text/plain": [
       "[{'id': 21, 'gender': 'Male', 'name': 'Aqua Morty', 'no of episode': 2},\n",
       " {'id': 22, 'gender': 'Male', 'name': 'Aqua Rick', 'no of episode': 3},\n",
       " {'id': 23, 'gender': 'Male', 'name': 'Arcade Alien', 'no of episode': 5},\n",
       " {'id': 24, 'gender': 'Male', 'name': 'Armagheadon', 'no of episode': 1},\n",
       " {'id': 25, 'gender': 'Male', 'name': 'Armothy', 'no of episode': 1},\n",
       " {'id': 26, 'gender': 'Female', 'name': 'Arthricia', 'no of episode': 1},\n",
       " {'id': 27, 'gender': 'Male', 'name': 'Artist Morty', 'no of episode': 2},\n",
       " {'id': 28, 'gender': 'Male', 'name': 'Attila Starwar', 'no of episode': 3},\n",
       " {'id': 29, 'gender': 'Male', 'name': 'Baby Legs', 'no of episode': 1},\n",
       " {'id': 30,\n",
       "  'gender': 'Male',\n",
       "  'name': 'Baby Poopybutthole',\n",
       "  'no of episode': 1},\n",
       " {'id': 31, 'gender': 'Male', 'name': 'Baby Wizard', 'no of episode': 1},\n",
       " {'id': 32, 'gender': 'Female', 'name': 'Bearded Lady', 'no of episode': 1},\n",
       " {'id': 33, 'gender': 'Male', 'name': 'Beebo', 'no of episode': 1},\n",
       " {'id': 34, 'gender': 'Male', 'name': 'Benjamin', 'no of episode': 3},\n",
       " {'id': 35, 'gender': 'unknown', 'name': 'Bepisian', 'no of episode': 4},\n",
       " {'id': 36, 'gender': 'unknown', 'name': 'Beta-Seven', 'no of episode': 1},\n",
       " {'id': 37, 'gender': 'Female', 'name': 'Beth Sanchez', 'no of episode': 1},\n",
       " {'id': 38, 'gender': 'Female', 'name': 'Beth Smith', 'no of episode': 8},\n",
       " {'id': 39, 'gender': 'Female', 'name': 'Beth Smith', 'no of episode': 1},\n",
       " {'id': 40, 'gender': 'Female', 'name': \"Beth's Mytholog\", 'no of episode': 1}]"
      ]
     },
     "execution_count": 174,
     "metadata": {},
     "output_type": "execute_result"
    }
   ],
   "source": [
    "def parse_jason(response):\n",
    "    char_list = []\n",
    "    for item in response['results']:\n",
    "        chr = {'id': item['id'],\n",
    "               'gender': item['gender'],\n",
    "            'name':item['name'],\n",
    "            'no of episode':len(item['episode'])\n",
    "            }\n",
    "        char_list.append(chr)\n",
    "    return char_list\n",
    "parse_jason(data)"
   ]
  },
  {
   "cell_type": "code",
   "execution_count": 168,
   "id": "4eb4d32d-900e-4924-aa01-b0dc7438476c",
   "metadata": {},
   "outputs": [
    {
     "name": "stdout",
     "output_type": "stream",
     "text": [
      "1\n",
      "2\n",
      "3\n",
      "4\n",
      "5\n",
      "6\n",
      "7\n",
      "8\n",
      "9\n",
      "10\n",
      "11\n",
      "12\n",
      "13\n",
      "14\n",
      "15\n",
      "16\n",
      "17\n",
      "18\n",
      "19\n",
      "20\n",
      "21\n",
      "22\n",
      "23\n",
      "24\n",
      "25\n",
      "26\n",
      "27\n",
      "28\n",
      "29\n",
      "30\n",
      "31\n",
      "32\n",
      "33\n",
      "34\n",
      "35\n",
      "36\n",
      "37\n",
      "38\n",
      "39\n",
      "40\n",
      "41\n",
      "42\n",
      "   id          name  no of episode\n",
      "0   1  Rick Sanchez             51\n",
      "1   2   Morty Smith             51\n",
      "2   3  Summer Smith             42\n",
      "3   4    Beth Smith             42\n",
      "4   5   Jerry Smith             39       id          name  no of episode\n",
      "821  822   Young Jerry              1\n",
      "822  823    Young Beth              1\n",
      "823  824    Young Beth              1\n",
      "824  825   Young Jerry              1\n",
      "825  826  Butter Robot              1\n"
     ]
    }
   ],
   "source": [
    "main_list = []\n",
    "for x in range(1,get_page(data)+1):\n",
    "    print(x)\n",
    "    main_list.extend(parse_jason(main_request(url,end_point,x)))\n",
    "df = pd.DataFrame(main_list)\n",
    "print(df.head(),df.tail())"
   ]
  },
  {
   "cell_type": "code",
   "execution_count": 169,
   "id": "8c3f090d-0899-4adb-9320-52538b5d2bff",
   "metadata": {},
   "outputs": [],
   "source": [
    "df.to_csv('data.csv',index=False)"
   ]
  },
  {
   "cell_type": "code",
   "execution_count": 178,
   "id": "bb065790-6e9a-4ed8-b0da-68a523830812",
   "metadata": {},
   "outputs": [],
   "source": [
    "list = []\n",
    "for i in data['results']:\n",
    "    list.append([i['id'],i['name'],i['species'],i['gender'],len(i['episode'])])\n",
    "df1 = pd.DataFrame(list,columns=['id','name','species','gender','episode'])"
   ]
  },
  {
   "cell_type": "code",
   "execution_count": 183,
   "id": "6272dd6e-1ee6-41dd-86e3-98b3d0585e01",
   "metadata": {},
   "outputs": [],
   "source": [
    "list= []\n",
    "for x in range(1,get_page(data)+1):\n",
    "    df2 = main_request(url,end_point,x)\n",
    "    for i in df2['results']:\n",
    "        list.append([i['id'],i['name'],i['species'],i['gender'],len(i['episode'])])\n",
    "df1 = pd.DataFrame(list,columns=['id','name','species','gender','episode'])\n",
    "    "
   ]
  }
 ],
 "metadata": {
  "kernelspec": {
   "display_name": "Python 3 (ipykernel)",
   "language": "python",
   "name": "python3"
  },
  "language_info": {
   "codemirror_mode": {
    "name": "ipython",
    "version": 3
   },
   "file_extension": ".py",
   "mimetype": "text/x-python",
   "name": "python",
   "nbconvert_exporter": "python",
   "pygments_lexer": "ipython3",
   "version": "3.11.7"
  }
 },
 "nbformat": 4,
 "nbformat_minor": 5
}
